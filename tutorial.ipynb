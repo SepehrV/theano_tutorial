{
 "cells": [
  {
   "cell_type": "markdown",
   "metadata": {},
   "source": [
    "Learned Concepts:\n",
    "\n",
    "1- What is a computation graph?\n",
    "\n",
    "2- What are symbolic variables?\n",
    "\n",
    "3- How to create a function out of the computation graph?\\n\n",
    "\n",
    "4- How to evaluate the function with real values?"
   ]
  },
  {
   "cell_type": "code",
   "execution_count": 50,
   "metadata": {
    "collapsed": false
   },
   "outputs": [
    {
     "name": "stdout",
     "output_type": "stream",
     "text": [
      "('Output is ', array(900, dtype=int32))\n"
     ]
    }
   ],
   "source": [
    "import numpy as np\n",
    "import theano.tensor as T\n",
    "import theano\n",
    "\n",
    "# Symbolic Variables \n",
    "x= T.iscalar('x')\n",
    "y= T.iscalar('y')\n",
    "z= T.iscalar('z')\n",
    "a= T.iscalar('a')\n",
    "\n",
    "# Construct computation Graph\n",
    "x= y+z\n",
    "a= x**2\n",
    "\n",
    "# Compile the function\n",
    "f= theano.function([y,z], a)\n",
    "\n",
    "# Create real values and evaluate the function\n",
    "y_real= 10\n",
    "z_real= 20\n",
    "\n",
    "a_real= f(y_real, z_real)\n",
    "\n",
    "print('Output is ', a_real)"
   ]
  },
  {
   "cell_type": "markdown",
   "metadata": {},
   "source": [
    "Computation Graph Exercise:\n",
    "Create a function that computes the logistic function"
   ]
  },
  {
   "cell_type": "code",
   "execution_count": 51,
   "metadata": {
    "collapsed": true
   },
   "outputs": [],
   "source": [
    "\n",
    "# Write your code here\n"
   ]
  },
  {
   "cell_type": "markdown",
   "metadata": {},
   "source": [
    "Learned Concepts:\n",
    "1- Shared Variables \n",
    "2- Updates"
   ]
  },
  {
   "cell_type": "code",
   "execution_count": 52,
   "metadata": {
    "collapsed": false
   },
   "outputs": [
    {
     "name": "stdout",
     "output_type": "stream",
     "text": [
      "('State = ', array(0.0))\n",
      "('State = ', array(5.0))\n",
      "('State = ', array(10.0))\n",
      "('State = ', array(15.0))\n"
     ]
    }
   ],
   "source": [
    "state= theano.shared(0.0)\n",
    "inc= T.iscalar('inc')\n",
    "accumulator= theano.function([inc], state, updates= [( state, state+inc)])\n",
    "incc= 5\n",
    "print('State = ', accumulator(incc))\n",
    "print('State = ', accumulator(incc))\n",
    "print('State = ', accumulator(incc))\n",
    "print('State = ', accumulator(incc))"
   ]
  },
  {
   "cell_type": "markdown",
   "metadata": {},
   "source": [
    "Logistic Regression Tutorial:\n",
    "\n",
    "This uses the shared variables, copmmutation graph, updates concept"
   ]
  },
  {
   "cell_type": "code",
   "execution_count": 53,
   "metadata": {
    "collapsed": false
   },
   "outputs": [
    {
     "name": "stdout",
     "output_type": "stream",
     "text": [
      "Initial model:\n",
      "0.0\n"
     ]
    }
   ],
   "source": [
    "N = 400                                   # training sample size\n",
    "feats = 784                               # number of input variables\n",
    "\n",
    "# generate a dataset: D = (input_values, target_class)\n",
    "D = (np.random.randn(N, feats), np.random.randint(size=N, low=0, high=2))\n",
    "training_steps = 10000\n",
    "\n",
    "# Declare Theano symbolic variables\n",
    "x = T.dmatrix(\"x\")\n",
    "y = T.dvector(\"y\")\n",
    "\n",
    "# initialize the weight vector w randomly\n",
    "#\n",
    "# this and the following bias variable b\n",
    "# are shared so they keep their values\n",
    "# between training iterations (updates)\n",
    "w = theano.shared(np.random.randn(feats), name=\"w\")\n",
    "\n",
    "# initialize the bias term\n",
    "b = theano.shared(0., name=\"b\")\n",
    "\n",
    "print(\"Initial model:\")\n",
    "#print(w.get_value())\n",
    "print(b.get_value())"
   ]
  },
  {
   "cell_type": "code",
   "execution_count": 54,
   "metadata": {
    "collapsed": false
   },
   "outputs": [],
   "source": [
    "# Construct Theano expression graph\n",
    "p_1 = 1 / (1 + T.exp(-T.dot(x, w) - b))   # Probability that target = 1\n",
    "prediction = p_1 > 0.5                    # The prediction thresholded\n",
    "cent = -y * T.log(p_1) - (1-y) * T.log(1-p_1) # Cross-entropy loss function\n",
    "cost = cent.mean() + 0.01 * (w ** 2).sum()# The cost to minimize\n",
    "\n",
    "gw, gb = T.grad(cost, [w, b])             # Compute the gradient of the cost\n",
    "                                          # w.r.t weight vector w and\n",
    "                                          # bias term b\n",
    "                                          # (we shall return to this in a\n",
    "                                          # following section of this tutorial)\n",
    "\n",
    "# Compile\n",
    "train = theano.function(\n",
    "          inputs= [x,y],\n",
    "          outputs= [prediction, cent],\n",
    "          updates=((w, w - 0.1 * gw), (b, b - 0.1 * gb)))\n",
    "predict = theano.function(inputs=[x], outputs=prediction)"
   ]
  },
  {
   "cell_type": "code",
   "execution_count": 55,
   "metadata": {
    "collapsed": false
   },
   "outputs": [
    {
     "name": "stdout",
     "output_type": "stream",
     "text": [
      "Final model:\n",
      "0.206249806352\n",
      "target values for D:\n",
      "[1 0 0 0 1 0 1 0 1 0 1 0 0 0 0 1 1 0 1 1 0 0 0 1 0 0 1 1 0 0 0 0 1 1 1 0 0\n",
      " 1 0 1 0 0 1 0 0 0 0 1 0 1 1 0 0 0 1 0 0 0 1 1 1 0 1 0 0 0 1 0 1 0 0 1 0 0\n",
      " 0 0 1 1 1 1 0 0 0 0 1 0 1 0 1 1 0 1 1 0 0 1 1 1 1 0 0 1 0 0 0 1 0 1 0 0 0\n",
      " 0 1 0 0 1 0 0 1 0 1 0 1 0 0 0 1 0 1 0 0 1 0 1 0 1 1 0 1 1 1 1 0 1 1 0 0 0\n",
      " 0 0 0 0 0 1 0 0 1 0 1 1 0 1 0 1 1 1 1 1 1 1 1 0 0 1 0 0 1 1 1 1 0 1 1 1 0\n",
      " 1 1 1 1 0 0 1 1 0 1 1 1 1 0 0 1 1 1 1 0 0 0 1 0 0 1 0 1 0 0 0 1 1 0 1 1 1\n",
      " 1 1 1 1 1 1 0 0 0 0 1 1 0 1 1 1 0 1 1 0 1 1 1 0 0 1 1 0 0 0 1 1 1 0 1 1 1\n",
      " 1 1 1 0 1 1 0 0 1 0 0 1 0 0 0 1 1 1 1 0 1 1 1 1 1 1 1 1 1 1 1 0 0 1 0 1 1\n",
      " 0 1 0 1 1 1 0 0 1 0 0 1 1 1 0 0 1 1 1 1 1 0 1 0 1 1 0 1 0 0 0 0 0 0 0 1 0\n",
      " 0 1 1 0 0 0 0 0 1 0 0 1 0 1 0 0 1 1 1 1 1 0 0 1 1 0 0 1 1 0 1 1 0 0 0 1 1\n",
      " 1 1 0 1 1 0 1 1 0 1 0 1 0 0 0 0 1 1 0 0 1 0 1 0 1 1 0 0 1 1]\n",
      "prediction on D:\n",
      "[1 0 0 0 1 0 1 0 1 0 1 0 0 0 0 1 1 0 1 1 0 0 0 1 0 0 1 1 0 0 0 0 1 1 1 0 0\n",
      " 1 0 1 0 0 1 0 0 0 0 1 0 1 1 0 0 0 1 0 0 0 1 1 1 0 1 0 0 0 1 0 1 0 0 1 0 0\n",
      " 0 0 1 1 1 1 0 0 0 0 1 0 1 0 1 1 0 1 1 0 0 1 1 1 1 0 0 1 0 0 0 1 0 1 0 0 0\n",
      " 0 1 0 0 1 0 0 1 0 1 0 1 0 0 0 1 0 1 0 0 1 0 1 0 1 1 0 1 1 1 1 0 1 1 0 0 0\n",
      " 0 0 0 0 0 1 0 0 1 0 1 1 0 1 0 1 1 1 1 1 1 1 1 0 0 1 0 0 1 1 1 1 0 1 1 1 0\n",
      " 1 1 1 1 0 0 1 1 0 1 1 1 1 0 0 1 1 1 1 0 0 0 1 0 0 1 0 1 0 0 0 1 1 0 1 1 1\n",
      " 1 1 1 1 1 1 0 0 0 0 1 1 0 1 1 1 0 1 1 0 1 1 1 0 0 1 1 0 0 0 1 1 1 0 1 1 1\n",
      " 1 1 1 0 1 1 0 0 1 0 0 1 0 0 0 1 1 1 1 0 1 1 1 1 1 1 1 1 1 1 1 0 0 1 0 1 1\n",
      " 0 1 0 1 1 1 0 0 1 0 0 1 1 1 0 0 1 1 1 1 1 0 1 0 1 1 0 1 0 0 0 0 0 0 0 1 0\n",
      " 0 1 1 0 0 0 0 0 1 0 0 1 0 1 0 0 1 1 1 1 1 0 0 1 1 0 0 1 1 0 1 1 0 0 0 1 1\n",
      " 1 1 0 1 1 0 1 1 0 1 0 1 0 0 0 0 1 1 0 0 1 0 1 0 1 1 0 0 1 1]\n"
     ]
    }
   ],
   "source": [
    "# Train\n",
    "for i in range(training_steps):\n",
    "    pred, err = train(D[0], D[1])\n",
    "\n",
    "print(\"Final model:\")\n",
    "#print(w.get_value())\n",
    "print(b.get_value())\n",
    "print(\"target values for D:\")\n",
    "print(D[1])\n",
    "print(\"prediction on D:\")\n",
    "print(predict(D[0]))"
   ]
  },
  {
   "cell_type": "markdown",
   "metadata": {},
   "source": [
    "Exercise Write your own simple neural network (Fully Connected one). \n",
    "\n",
    "It has two layers: \n",
    "\n",
    "Layer1: y1= tanh(w1*x+b1)\n",
    "\n",
    "Layer2: y2= w2*y1+b2\n",
    "\n",
    "Layer3: y3= softmax(y2)\n",
    "\n",
    "Cost is categorical cross entropy\n"
   ]
  },
  {
   "cell_type": "code",
   "execution_count": 56,
   "metadata": {
    "collapsed": true
   },
   "outputs": [],
   "source": [
    "# 1- Create shared Variables for weights and initialize them to random + symbolic variables\n",
    "N, D, H, C= 10, 1000, 100, 1\n",
    "\n",
    "x= T.matrix('x')\n",
    "y= T.vector('y', dtype= 'int64')\n",
    "\n",
    "w1= theano.shared(np.random.randn(D, H),name='w1')\n",
    "w2= theano.shared(np.random.randn(H, C),name='w2')\n",
    "b1= theano.shared(np.zeros((H,)), name= 'b1')\n",
    "b2= theano.shared(np.zeros((C,)), name= 'b2')\n",
    "\n",
    "# 2- Forward Pass Computation Graph\n",
    "# Write Code Here\n",
    "\n",
    "# 3- Backward Pass Compute Gradients\n",
    "# Write Code Here\n",
    "\n",
    "# 4- Define your train function with the proper updates using sgd\n",
    "# Write Code Here\n",
    "\n",
    "# 5- Evaluate your train function\n",
    "xx= np.random.randn(N, D)\n",
    "yy= np.random.randint(size= N, low= 0.0, high= C+1)\n",
    "\n",
    "# Write Code Here\n"
   ]
  },
  {
   "cell_type": "markdown",
   "metadata": {},
   "source": [
    "Solution to the Simple Neural Network Example"
   ]
  },
  {
   "cell_type": "code",
   "execution_count": 57,
   "metadata": {
    "collapsed": false
   },
   "outputs": [
    {
     "name": "stdout",
     "output_type": "stream",
     "text": [
      "('Target Labels are hiii', 1)\n",
      "('Current predictions are ', array([[1]], dtype=int8))\n",
      "('Target Labels are hiii', 0)\n",
      "('Current predictions are ', array([[0]], dtype=int8))\n",
      "('Target Labels are hiii', 1)\n",
      "('Current predictions are ', array([[1]], dtype=int8))\n",
      "('Target Labels are hiii', 1)\n",
      "('Current predictions are ', array([[0]], dtype=int8))\n",
      "('Target Labels are hiii', 1)\n",
      "('Current predictions are ', array([[1]], dtype=int8))\n",
      "('Target Labels are hiii', 0)\n",
      "('Current predictions are ', array([[0]], dtype=int8))\n",
      "('Target Labels are hiii', 1)\n",
      "('Current predictions are ', array([[1]], dtype=int8))\n",
      "('Target Labels are hiii', 0)\n",
      "('Current predictions are ', array([[0]], dtype=int8))\n",
      "('Target Labels are hiii', 0)\n",
      "('Current predictions are ', array([[0]], dtype=int8))\n",
      "('Target Labels are hiii', 1)\n",
      "('Current predictions are ', array([[1]], dtype=int8))\n"
     ]
    }
   ],
   "source": [
    "import numpy as np\n",
    "import theano.tensor as T\n",
    "import theano\n",
    "# 1- Create shared Variables for weights and initialize them to random + symbolic variables\n",
    "N, D, H, C= 10, 1000, 100, 1\n",
    "\n",
    "x= T.matrix('x')\n",
    "y= T.vector('y', dtype= 'int64')\n",
    "\n",
    "w1= theano.shared(np.random.randn(D, H),name='w1')\n",
    "w2= theano.shared(np.random.randn(H, C),name='w2')\n",
    "b1= theano.shared(np.zeros((H,)), name= 'b1')\n",
    "b2= theano.shared(np.zeros((C,)), name= 'b2')\n",
    "\n",
    "# 2- Forward Pass Computation Graph\n",
    "y1= T.tanh(x.dot(w1)+b1)\n",
    "y2= y1.dot(w2)+b2\n",
    "p_1 = 1 / (1 + T.exp(-y2))   # Probability that target = 1\n",
    "prediction = p_1 > 0.5                    # The prediction thresholded\n",
    "cent = -y * T.log(p_1) - (1-y) * T.log(1-p_1) # Cross-entropy loss function\n",
    "cost = cent.mean()\n",
    "\n",
    "# 3- Backward Pass Compute Gradients\n",
    "dw1, dw2, db1, db2= T.grad(cost, [w1, w2, b1, b2])\n",
    "\n",
    "# 4- Define your train function with the proper updates using sgd\n",
    "lr= 0.001\n",
    "train= theano.function(inputs=[x,y],\n",
    "                       outputs=[cost, prediction],\n",
    "                       updates= [(w1, w1-lr*dw1), (w2, w2-lr*dw2), (b1, b1-lr*db1), (b2, b2-lr*db2)])\n",
    "\n",
    "# 5- Evaluate your train function\n",
    "xx= np.array(np.random.randn(N, D), dtype=\"float32\")\n",
    "yy= np.random.randint(size= N, low= 0.0, high= C+1)\n",
    "\n",
    "iters=100\n",
    "for i in range(iters):\n",
    "    for j in range(N):\n",
    "        cost, preds = train(xx[j, :].reshape((1,D)),yy[j].reshape((1,)) )\n",
    "        if i == iters-1:\n",
    "            print('Target Labels are hiii', yy[j])\n",
    "            print('Current predictions are ', preds)"
   ]
  },
  {
   "cell_type": "code",
   "execution_count": 58,
   "metadata": {
    "collapsed": false
   },
   "outputs": [
    {
     "name": "stdout",
     "output_type": "stream",
     "text": [
      "loss at iter0 = 0.000105520702899\n",
      "loss at iter2000 = 0.178741631224\n",
      "loss at iter4000 = 0.119768433419\n",
      "loss at iter6000 = 0.104258098036\n",
      "loss at iter8000 = 0.0923206752571\n",
      "loss at iter10000 = 0.0847378559605\n",
      "loss at iter12000 = 0.0687221718054\n",
      "loss at iter14000 = 0.0552323171445\n",
      "loss at iter16000 = 0.0360805221671\n",
      "loss at iter18000 = 0.0244861322183\n",
      "loss at iter20000 = 0.0183551333875\n",
      "loss at iter22000 = 0.0145539047568\n",
      "loss at iter24000 = 0.0121873505553\n",
      "loss at iter26000 = 0.0103094233416\n",
      "loss at iter28000 = 0.00955641794375\n",
      "loss at iter30000 = 0.00903140547499\n",
      "loss at iter32000 = 0.00814901075978\n",
      "loss at iter34000 = 0.00665179944574\n",
      "loss at iter36000 = 0.00679499831116\n",
      "loss at iter38000 = 0.00665677671406\n",
      "loss at iter40000 = 0.00593863845263\n",
      "loss at iter42000 = 0.00561237437179\n",
      "loss at iter44000 = 0.00479485890752\n",
      "loss at iter46000 = 0.00509261138187\n",
      "loss at iter48000 = 0.00468719436816\n",
      "loss at iter50000 = 0.0044201458915\n",
      "loss at iter52000 = 0.00439219409057\n",
      "loss at iter54000 = 0.00468109475392\n",
      "loss at iter56000 = 0.00425593517848\n",
      "loss at iter58000 = 0.00383424131613\n",
      "loss at iter60000 = 0.00412433807424\n",
      "loss at iter62000 = 0.00379252522136\n",
      "loss at iter64000 = 0.00379513620326\n",
      "loss at iter66000 = 0.00330780709398\n",
      "loss at iter68000 = 0.00299130387439\n",
      "loss at iter70000 = 0.00339583960353\n",
      "loss at iter72000 = 0.00313328114605\n",
      "loss at iter74000 = 0.00314056008171\n",
      "loss at iter76000 = 0.00305915654487\n",
      "loss at iter78000 = 0.00299799515025\n",
      "loss at iter80000 = 0.00288151371239\n",
      "loss at iter82000 = 0.00264487876509\n",
      "loss at iter84000 = 0.00289299577598\n",
      "loss at iter86000 = 0.00293742488628\n",
      "loss at iter88000 = 0.00266528836448\n",
      "loss at iter90000 = 0.00270480438925\n",
      "loss at iter92000 = 0.00267360555225\n",
      "loss at iter94000 = 0.00272587571628\n",
      "loss at iter96000 = 0.00232975496705\n",
      "loss at iter98000 = 0.00242802551219\n"
     ]
    }
   ],
   "source": [
    "class network():\n",
    "    def __init__ (self):\n",
    "        self.params = {}\n",
    "        lr = np.array(0.001, dtype=\"float32\")\n",
    "\n",
    "        self.x = T.vector('x')\n",
    "        self.y = T.scalar('y')\n",
    "                                                                                                                                                                       \n",
    "        self.RNN_out = self.RNN(self.x)\n",
    "        self.loss = self.euc_loss(self.RNN(self.x), self.y)\n",
    "        \n",
    "        \n",
    "        self.grads = T.grad(self.loss, wrt = list(self.params.values()) )\n",
    "\n",
    "        gshared = [theano.shared(p.get_value() * np.array(0.0, dtype=\"float32\"), name='%s_grad' % k) for k, p in self.params.items()]\n",
    "        \n",
    "        gsup = [(gs, g) for gs, g in zip(gshared, self.grads)]\n",
    "        pup = [(param, param - lr*g) for param, g in zip(self.params.values(), gshared)]\n",
    "        self.f_forward = theano.function([self.x], outputs=[self.RNN_out])\n",
    "        \n",
    "        self.train = theano.function([self.x, self.y], outputs=[self.RNN_out, self.loss], updates=gsup + pup)\n",
    "    \n",
    "        \n",
    "    def RNN(self, X):\n",
    "        self.params['W'] = theano.shared(value=np.array(np.random.rand(), dtype=\"float32\"), name= 'W')\n",
    "        self.params['U'] = theano.shared(value=np.array(np.random.rand(), dtype=\"float32\"), name= 'U')\n",
    "        self.params['b'] = theano.shared(value=np.array(np.random.rand(), dtype=\"float32\"), name= 'b')\n",
    "        self.params['Wo'] = theano.shared(value=np.array(np.random.rand(), dtype=\"float32\"), name= 'Wo')\n",
    "        \n",
    "       \n",
    "        n_steps = X.shape[0]\n",
    "        def step(x, _h): \n",
    "            h = T.tanh(self.params['W']*_h + self.params['U']*x + self.params['b'])\n",
    "            y = self.params['Wo'] * h\n",
    "\n",
    "            return y, h\n",
    "            \n",
    "\n",
    "        results, update = theano.scan(step, sequences = X, outputs_info =[None,  np.array(0.0, dtype=\"float32\")], n_steps = n_steps)\n",
    "        return results[0][-1]\n",
    "            \n",
    "\n",
    "    def euc_loss(self, inp, label):\n",
    "        return (inp-label)**2\n",
    "\n",
    "def dummy(x):\n",
    "    return x.sum()\n",
    "\n",
    "net = network()\n",
    "max_iter = 100000\n",
    "disp_freq = 2000\n",
    "\n",
    "loss = np.zeros(disp_freq)\n",
    "for i in range(max_iter):\n",
    "    x = np.array(np.random.rand(2), dtype=\"float32\")\n",
    "    y = dummy(x)\n",
    "    loss[i%disp_freq] = net.train(x,y)[1]\n",
    "    if i%disp_freq == 0:\n",
    "        print (\"loss at iter%s = %s\"%(i,loss.mean()))"
   ]
  }
 ],
 "metadata": {
  "kernelspec": {
   "display_name": "Python 2",
   "language": "python",
   "name": "python2"
  },
  "language_info": {
   "codemirror_mode": {
    "name": "ipython",
    "version": 2
   },
   "file_extension": ".py",
   "mimetype": "text/x-python",
   "name": "python",
   "nbconvert_exporter": "python",
   "pygments_lexer": "ipython2",
   "version": "2.7.6"
  }
 },
 "nbformat": 4,
 "nbformat_minor": 0
}
