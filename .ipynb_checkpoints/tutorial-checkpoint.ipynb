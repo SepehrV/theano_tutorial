{
 "cells": [
  {
   "cell_type": "markdown",
   "metadata": {},
   "source": [
    "Learned Concepts:\n",
    "\n",
    "1- What is a computation graph?\n",
    "\n",
    "2- What are symbolic variables?\n",
    "\n",
    "3- How to create a function out of the computation graph?\\n\n",
    "\n",
    "4- How to evaluate the function with real values?"
   ]
  },
  {
   "cell_type": "code",
   "execution_count": 41,
   "metadata": {
    "collapsed": false
   },
   "outputs": [
    {
     "name": "stdout",
     "output_type": "stream",
     "text": [
      "('Output is ', array(900, dtype=int32))\n"
     ]
    }
   ],
   "source": [
    "import numpy as np\n",
    "import theano.tensor as T\n",
    "import theano\n",
    "\n",
    "# Symbolic Variables \n",
    "x= T.iscalar('x')\n",
    "y= T.iscalar('y')\n",
    "z= T.iscalar('z')\n",
    "a= T.iscalar('a')\n",
    "\n",
    "# Construct computation Graph\n",
    "x= y+z\n",
    "a= x**2\n",
    "\n",
    "# Compile the function\n",
    "f= theano.function([y,z], a)\n",
    "\n",
    "# Create real values and evaluate the function\n",
    "y_real= 10\n",
    "z_real= 20\n",
    "\n",
    "a_real= f(y_real, z_real)\n",
    "\n",
    "print('Output is ', a_real)"
   ]
  },
  {
   "cell_type": "markdown",
   "metadata": {},
   "source": [
    "Computation Graph Exercise:\n",
    "Create a function that computes the logistic function"
   ]
  },
  {
   "cell_type": "code",
   "execution_count": 42,
   "metadata": {
    "collapsed": true
   },
   "outputs": [],
   "source": [
    "\n",
    "# Write your code here\n"
   ]
  },
  {
   "cell_type": "markdown",
   "metadata": {},
   "source": [
    "Learned Concepts:\n",
    "1- Shared Variables \n",
    "2- Updates"
   ]
  },
  {
   "cell_type": "code",
   "execution_count": 43,
   "metadata": {
    "collapsed": false
   },
   "outputs": [
    {
     "name": "stdout",
     "output_type": "stream",
     "text": [
      "('State = ', array(0.0))\n",
      "('State = ', array(5.0))\n",
      "('State = ', array(10.0))\n",
      "('State = ', array(15.0))\n"
     ]
    }
   ],
   "source": [
    "state= theano.shared(0.0)\n",
    "inc= T.iscalar('inc')\n",
    "accumulator= theano.function([inc], state, updates= [( state, state+inc)])\n",
    "incc= 5\n",
    "print('State = ', accumulator(incc))\n",
    "print('State = ', accumulator(incc))\n",
    "print('State = ', accumulator(incc))\n",
    "print('State = ', accumulator(incc))"
   ]
  },
  {
   "cell_type": "markdown",
   "metadata": {},
   "source": [
    "Logistic Regression Tutorial:\n",
    "\n",
    "This uses the shared variables, copmmutation graph, updates concept"
   ]
  },
  {
   "cell_type": "code",
   "execution_count": 44,
   "metadata": {
    "collapsed": false
   },
   "outputs": [
    {
     "name": "stdout",
     "output_type": "stream",
     "text": [
      "Initial model:\n",
      "0.0\n"
     ]
    }
   ],
   "source": [
    "N = 400                                   # training sample size\n",
    "feats = 784                               # number of input variables\n",
    "\n",
    "# generate a dataset: D = (input_values, target_class)\n",
    "D = (np.random.randn(N, feats), np.random.randint(size=N, low=0, high=2))\n",
    "training_steps = 10000\n",
    "\n",
    "# Declare Theano symbolic variables\n",
    "x = T.dmatrix(\"x\")\n",
    "y = T.dvector(\"y\")\n",
    "\n",
    "# initialize the weight vector w randomly\n",
    "#\n",
    "# this and the following bias variable b\n",
    "# are shared so they keep their values\n",
    "# between training iterations (updates)\n",
    "w = theano.shared(np.random.randn(feats), name=\"w\")\n",
    "\n",
    "# initialize the bias term\n",
    "b = theano.shared(0., name=\"b\")\n",
    "\n",
    "print(\"Initial model:\")\n",
    "#print(w.get_value())\n",
    "print(b.get_value())"
   ]
  },
  {
   "cell_type": "code",
   "execution_count": 45,
   "metadata": {
    "collapsed": false
   },
   "outputs": [],
   "source": [
    "# Construct Theano expression graph\n",
    "p_1 = 1 / (1 + T.exp(-T.dot(x, w) - b))   # Probability that target = 1\n",
    "prediction = p_1 > 0.5                    # The prediction thresholded\n",
    "cent = -y * T.log(p_1) - (1-y) * T.log(1-p_1) # Cross-entropy loss function\n",
    "cost = cent.mean() + 0.01 * (w ** 2).sum()# The cost to minimize\n",
    "\n",
    "gw, gb = T.grad(cost, [w, b])             # Compute the gradient of the cost\n",
    "                                          # w.r.t weight vector w and\n",
    "                                          # bias term b\n",
    "                                          # (we shall return to this in a\n",
    "                                          # following section of this tutorial)\n",
    "\n",
    "# Compile\n",
    "train = theano.function(\n",
    "          inputs= [x,y],\n",
    "          outputs= [prediction, cent],\n",
    "          updates=((w, w - 0.1 * gw), (b, b - 0.1 * gb)))\n",
    "predict = theano.function(inputs=[x], outputs=prediction)"
   ]
  },
  {
   "cell_type": "code",
   "execution_count": 46,
   "metadata": {
    "collapsed": false
   },
   "outputs": [
    {
     "name": "stdout",
     "output_type": "stream",
     "text": [
      "Final model:\n",
      "-0.151352181973\n",
      "target values for D:\n",
      "[0 0 1 0 0 0 1 1 1 1 0 1 1 0 1 0 1 0 1 0 1 0 1 0 1 0 0 1 1 0 1 1 1 1 0 1 1\n",
      " 1 1 1 1 0 1 0 0 1 0 0 1 0 0 1 1 0 0 0 1 1 0 1 1 0 1 0 1 1 1 0 1 0 0 1 0 1\n",
      " 0 1 1 1 1 0 1 0 0 1 0 0 0 1 0 0 0 0 0 1 0 1 0 0 0 1 0 0 0 1 1 1 1 0 1 1 0\n",
      " 0 1 0 0 0 0 1 0 0 1 0 0 0 0 1 0 0 0 1 1 0 0 1 1 1 0 1 1 1 0 1 1 1 1 1 0 0\n",
      " 1 0 0 1 1 0 0 0 0 1 0 0 1 0 0 1 0 1 1 1 1 1 1 0 0 1 1 0 0 0 0 1 1 1 0 0 1\n",
      " 0 0 1 1 1 1 0 0 0 0 1 1 1 0 1 0 1 1 0 0 1 0 1 1 0 0 1 0 1 0 0 1 1 0 1 1 1\n",
      " 1 0 0 0 1 1 1 0 1 0 0 0 0 0 0 1 0 1 0 0 0 0 1 1 1 0 1 0 0 1 0 0 1 0 0 1 0\n",
      " 0 0 1 0 0 0 1 0 0 0 1 1 1 1 1 1 0 1 0 1 1 0 0 0 1 1 0 0 0 1 1 1 0 0 0 1 0\n",
      " 0 1 0 0 0 1 1 1 1 0 0 1 1 1 1 1 0 0 1 0 0 0 1 0 1 0 1 0 1 0 1 1 1 0 0 1 0\n",
      " 1 1 1 1 1 0 0 1 1 1 1 0 0 0 0 1 1 0 1 0 0 0 0 1 0 0 1 0 0 1 1 1 1 1 0 0 1\n",
      " 1 0 1 0 1 1 1 0 0 0 0 0 0 1 1 0 1 1 0 1 1 0 0 1 0 0 0 0 0 0]\n",
      "prediction on D:\n",
      "[0 0 1 0 0 0 1 1 1 1 0 1 1 0 1 0 1 0 1 0 1 0 1 0 1 0 0 1 1 0 1 1 1 1 0 1 1\n",
      " 1 1 1 1 0 1 0 0 1 0 0 1 0 0 1 1 0 0 0 1 1 0 1 1 0 1 0 1 1 1 0 1 0 0 1 0 1\n",
      " 0 1 1 1 1 0 1 0 0 1 0 0 0 1 0 0 0 0 0 1 0 1 0 0 0 1 0 0 0 1 1 1 1 0 1 1 0\n",
      " 0 1 0 0 0 0 1 0 0 1 0 0 0 0 1 0 0 0 1 1 0 0 1 1 1 0 1 1 1 0 1 1 1 1 1 0 0\n",
      " 1 0 0 1 1 0 0 0 0 1 0 0 1 0 0 1 0 1 1 1 1 1 1 0 0 1 1 0 0 0 0 1 1 1 0 0 1\n",
      " 0 0 1 1 1 1 0 0 0 0 1 1 1 0 1 0 1 1 0 0 1 0 1 1 0 0 1 0 1 0 0 1 1 0 1 1 1\n",
      " 1 0 0 0 1 1 1 0 1 0 0 0 0 0 0 1 0 1 0 0 0 0 1 1 1 0 1 0 0 1 0 0 1 0 0 1 0\n",
      " 0 0 1 0 0 0 1 0 0 0 1 1 1 1 1 1 0 1 0 1 1 0 0 0 1 1 0 0 0 1 1 1 0 0 0 1 0\n",
      " 0 1 0 0 0 1 1 1 1 0 0 1 1 1 1 1 0 0 1 0 0 0 1 0 1 0 1 0 1 0 1 1 1 0 0 1 0\n",
      " 1 1 1 1 1 0 0 1 1 1 1 0 0 0 0 1 1 0 1 0 0 0 0 1 0 0 1 0 0 1 1 1 1 1 0 0 1\n",
      " 1 0 1 0 1 1 1 0 0 0 0 0 0 1 1 0 1 1 0 1 1 0 0 1 0 0 0 0 0 0]\n"
     ]
    }
   ],
   "source": [
    "# Train\n",
    "for i in range(training_steps):\n",
    "    pred, err = train(D[0], D[1])\n",
    "\n",
    "print(\"Final model:\")\n",
    "#print(w.get_value())\n",
    "print(b.get_value())\n",
    "print(\"target values for D:\")\n",
    "print(D[1])\n",
    "print(\"prediction on D:\")\n",
    "print(predict(D[0]))"
   ]
  },
  {
   "cell_type": "markdown",
   "metadata": {},
   "source": [
    "Exercise Write your own simple neural network (Fully Connected one). \n",
    "\n",
    "It has two layers: \n",
    "\n",
    "Layer1: y1= tanh(w1*x+b1)\n",
    "\n",
    "Layer2: y2= w2*y1+b2\n",
    "\n",
    "Layer3: y3= softmax(y2)\n",
    "\n",
    "Cost is categorical cross entropy\n"
   ]
  },
  {
   "cell_type": "code",
   "execution_count": 47,
   "metadata": {
    "collapsed": true
   },
   "outputs": [],
   "source": [
    "# 1- Create shared Variables for weights and initialize them to random + symbolic variables\n",
    "N, D, H, C= 10, 1000, 100, 1\n",
    "\n",
    "x= T.matrix('x')\n",
    "y= T.vector('y', dtype= 'int64')\n",
    "\n",
    "w1= theano.shared(np.random.randn(D, H),name='w1')\n",
    "w2= theano.shared(np.random.randn(H, C),name='w2')\n",
    "b1= theano.shared(np.zeros((H,)), name= 'b1')\n",
    "b2= theano.shared(np.zeros((C,)), name= 'b2')\n",
    "\n",
    "# 2- Forward Pass Computation Graph\n",
    "# Write Code Here\n",
    "\n",
    "# 3- Backward Pass Compute Gradients\n",
    "# Write Code Here\n",
    "\n",
    "# 4- Define your train function with the proper updates using sgd\n",
    "# Write Code Here\n",
    "\n",
    "# 5- Evaluate your train function\n",
    "xx= np.random.randn(N, D)\n",
    "yy= np.random.randint(size= N, low= 0.0, high= C+1)\n",
    "\n",
    "# Write Code Here\n"
   ]
  },
  {
   "cell_type": "markdown",
   "metadata": {},
   "source": [
    "Solution to the Simple Neural Network Example"
   ]
  },
  {
   "cell_type": "code",
   "execution_count": 48,
   "metadata": {
    "collapsed": false
   },
   "outputs": [
    {
     "name": "stdout",
     "output_type": "stream",
     "text": [
      "('Target Labels are hiii', 1)\n",
      "('Current predictions are ', array([[1]], dtype=int8))\n",
      "('Target Labels are hiii', 0)\n",
      "('Current predictions are ', array([[0]], dtype=int8))\n",
      "('Target Labels are hiii', 1)\n",
      "('Current predictions are ', array([[1]], dtype=int8))\n",
      "('Target Labels are hiii', 0)\n",
      "('Current predictions are ', array([[0]], dtype=int8))\n",
      "('Target Labels are hiii', 1)\n",
      "('Current predictions are ', array([[1]], dtype=int8))\n",
      "('Target Labels are hiii', 1)\n",
      "('Current predictions are ', array([[1]], dtype=int8))\n",
      "('Target Labels are hiii', 1)\n",
      "('Current predictions are ', array([[1]], dtype=int8))\n",
      "('Target Labels are hiii', 0)\n",
      "('Current predictions are ', array([[0]], dtype=int8))\n",
      "('Target Labels are hiii', 0)\n",
      "('Current predictions are ', array([[0]], dtype=int8))\n",
      "('Target Labels are hiii', 0)\n",
      "('Current predictions are ', array([[0]], dtype=int8))\n"
     ]
    }
   ],
   "source": [
    "# 1- Create shared Variables for weights and initialize them to random + symbolic variables\n",
    "N, D, H, C= 10, 1000, 100, 1\n",
    "\n",
    "x= T.matrix('x')\n",
    "y= T.vector('y', dtype= 'int64')\n",
    "\n",
    "w1= theano.shared(np.random.randn(D, H),name='w1')\n",
    "w2= theano.shared(np.random.randn(H, C),name='w2')\n",
    "b1= theano.shared(np.zeros((H,)), name= 'b1')\n",
    "b2= theano.shared(np.zeros((C,)), name= 'b2')\n",
    "\n",
    "# 2- Forward Pass Computation Graph\n",
    "y1= T.tanh(x.dot(w1)+b1)\n",
    "y2= y1.dot(w2)+b2\n",
    "p_1 = 1 / (1 + T.exp(-y2))   # Probability that target = 1\n",
    "prediction = p_1 > 0.5                    # The prediction thresholded\n",
    "cent = -y * T.log(p_1) - (1-y) * T.log(1-p_1) # Cross-entropy loss function\n",
    "cost = cent.mean()\n",
    "\n",
    "# 3- Backward Pass Compute Gradients\n",
    "dw1, dw2, db1, db2= T.grad(cost, [w1, w2, b1, b2])\n",
    "\n",
    "# 4- Define your train function with the proper updates using sgd\n",
    "lr= 0.001\n",
    "train= theano.function(inputs=[x,y],\n",
    "                       outputs=[cost, prediction],\n",
    "                       updates= [(w1, w1-lr*dw1), (w2, w2-lr*dw2), (b1, b1-lr*db1), (b2, b2-lr*db2)])\n",
    "\n",
    "# 5- Evaluate your train function\n",
    "xx= np.random.randn(N, D)\n",
    "yy= np.random.randint(size= N, low= 0.0, high= C+1)\n",
    "\n",
    "iters=100\n",
    "for i in range(iters):\n",
    "    for j in range(N):\n",
    "        cost, preds = train(xx[j, :].reshape((1,D)),yy[j].reshape((1,)) )\n",
    "        if i == iters-1:\n",
    "            print('Target Labels are hiii', yy[j])\n",
    "            print('Current predictions are ', preds)"
   ]
  },
  {
   "cell_type": "code",
   "execution_count": null,
   "metadata": {
    "collapsed": true
   },
   "outputs": [],
   "source": []
  }
 ],
 "metadata": {
  "kernelspec": {
   "display_name": "Python 2",
   "language": "python",
   "name": "python2"
  },
  "language_info": {
   "codemirror_mode": {
    "name": "ipython",
    "version": 2
   },
   "file_extension": ".py",
   "mimetype": "text/x-python",
   "name": "python",
   "nbconvert_exporter": "python",
   "pygments_lexer": "ipython2",
   "version": "2.7.6"
  }
 },
 "nbformat": 4,
 "nbformat_minor": 0
}
